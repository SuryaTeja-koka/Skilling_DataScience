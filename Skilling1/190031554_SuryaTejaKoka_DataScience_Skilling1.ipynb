{
 "cells": [
  {
   "cell_type": "code",
   "execution_count": 11,
   "metadata": {
    "id": "ssWvLXMD5Oyb"
   },
   "outputs": [
    {
     "data": {
      "text/plain": [
       "\"\\n190031554 -- Surya Teja Koka (Task 1 for Data Science)\\n\\nA)INTRODUCTION TO PANDAS\\n\\nB) Include  .csv file in python\\n\\n• 1. Use series method to convert the following list [‘a’,’b’,’c’,’d’]  \\n\\n•2. Given the lists which contain names of students and their scored marks you have to create data frames which \\n    club them all using pandas. student list is [' Name 1' ,' Name 2', ' Name 3' ,' Name 4', ' Name 5' ' Name 6'] \\n    and you are given a 2d matrix which contain their marks. \\n    Their marks are [[67,89,68,95], [87,94,97,76], [77,85,99,74], [90,89,92,78], [83,97,80,98],[90,90,80,87]] \\n    and subjects list containing ['DS','AI','MPII', 'CNS']  \\n\\n•3. Add the TS , total columns to the data frame from which TS is the sum of  DS,AI,MPII and \\n    total is the sum of all subjects?  \\n\\n•4. Display only the marks scored by Name 2 and Name3?  \\n\\n•5. Display all the students marks who scored 90 + marks in DS? \\n\\n• 6. DS teacher wants to know the total marks achieved by students in AI, Help her by using the sum method in data frame \""
      ]
     },
     "execution_count": 11,
     "metadata": {},
     "output_type": "execute_result"
    }
   ],
   "source": [
    "'''\n",
    "190031554 -- Surya Teja Koka (Task 1 for Data Science)\n",
    "\n",
    "A)INTRODUCTION TO PANDAS\n",
    "\n",
    "B) Include  .csv file in python\n",
    "\n",
    "• 1. Use series method to convert the following list [‘a’,’b’,’c’,’d’]  \n",
    "\n",
    "•2. Given the lists which contain names of students and their scored marks you have to create data frames which \n",
    "    club them all using pandas. student list is [' Name 1' ,' Name 2', ' Name 3' ,' Name 4', ' Name 5' ' Name 6'] \n",
    "    and you are given a 2d matrix which contain their marks. \n",
    "    Their marks are [[67,89,68,95], [87,94,97,76], [77,85,99,74], [90,89,92,78], [83,97,80,98],[90,90,80,87]] \n",
    "    and subjects list containing ['DS','AI','MPII', 'CNS']  \n",
    "\n",
    "•3. Add the TS , total columns to the data frame from which TS is the sum of  DS,AI,MPII and \n",
    "    total is the sum of all subjects?  \n",
    "\n",
    "•4. Display only the marks scored by Name 2 and Name3?  \n",
    "\n",
    "•5. Display all the students marks who scored 90 + marks in DS? \n",
    "\n",
    "• 6. DS teacher wants to know the total marks achieved by students in AI, Help her by using the sum method in data frame '''"
   ]
  },
  {
   "cell_type": "code",
   "execution_count": 3,
   "metadata": {},
   "outputs": [],
   "source": [
    "import pandas as pd"
   ]
  },
  {
   "cell_type": "code",
   "execution_count": 4,
   "metadata": {
    "id": "iELwu_gA6XYo"
   },
   "outputs": [],
   "source": [
    "import numpy as np"
   ]
  },
  {
   "cell_type": "code",
   "execution_count": 5,
   "metadata": {
    "id": "EIQJECAo6e0F"
   },
   "outputs": [],
   "source": [
    "list=['a','b','c','d']"
   ]
  },
  {
   "cell_type": "code",
   "execution_count": 6,
   "metadata": {
    "id": "MZz7KGmA6obh"
   },
   "outputs": [],
   "source": [
    "series= pd.Series(list)"
   ]
  },
  {
   "cell_type": "code",
   "execution_count": 7,
   "metadata": {
    "colab": {
     "base_uri": "https://localhost:8080/"
    },
    "id": "J9iEZooY6uAO",
    "outputId": "39d3af60-d5bf-47d6-9d14-8071f5ae6be9"
   },
   "outputs": [
    {
     "name": "stdout",
     "output_type": "stream",
     "text": [
      "0    a\n",
      "1    b\n",
      "2    c\n",
      "3    d\n",
      "dtype: object\n"
     ]
    }
   ],
   "source": [
    "print(series)"
   ]
  },
  {
   "cell_type": "code",
   "execution_count": 8,
   "metadata": {
    "id": "ZQugNOTP7Gnp"
   },
   "outputs": [],
   "source": [
    "d=['Surya','Surya Teja','Surya Teja Koka','Bhanu','Bhanu Sri','Bhanu Sri Edupuganti']\n",
    "m=[[77,89,92,95],[85,94,97,76],[92,95,99,98],[90,89,92,78],[83,97,80,90],[95,98,99,100]] \n",
    "\n",
    "'''\n",
    "There is no one who scored morethan 90 in DS as per the data \n",
    "but a question is asked to show them so,\n",
    "I have changed and made the scores as given above\n",
    "'''\n",
    "\n",
    "s=['DS','AI','MPII','CNS']"
   ]
  },
  {
   "cell_type": "code",
   "execution_count": 9,
   "metadata": {
    "id": "FUl3cRy57lkO"
   },
   "outputs": [],
   "source": [
    "df= pd.DataFrame(data= m, index= d, columns=s)"
   ]
  },
  {
   "cell_type": "code",
   "execution_count": 10,
   "metadata": {
    "colab": {
     "base_uri": "https://localhost:8080/",
     "height": 225
    },
    "id": "09ix2fZl8j8P",
    "outputId": "b60c5465-6ef6-4354-d80b-d62d10d1c2be"
   },
   "outputs": [
    {
     "data": {
      "text/html": [
       "<div>\n",
       "<style scoped>\n",
       "    .dataframe tbody tr th:only-of-type {\n",
       "        vertical-align: middle;\n",
       "    }\n",
       "\n",
       "    .dataframe tbody tr th {\n",
       "        vertical-align: top;\n",
       "    }\n",
       "\n",
       "    .dataframe thead th {\n",
       "        text-align: right;\n",
       "    }\n",
       "</style>\n",
       "<table border=\"1\" class=\"dataframe\">\n",
       "  <thead>\n",
       "    <tr style=\"text-align: right;\">\n",
       "      <th></th>\n",
       "      <th>DS</th>\n",
       "      <th>AI</th>\n",
       "      <th>MPII</th>\n",
       "      <th>CNS</th>\n",
       "    </tr>\n",
       "  </thead>\n",
       "  <tbody>\n",
       "    <tr>\n",
       "      <th>Surya</th>\n",
       "      <td>77</td>\n",
       "      <td>89</td>\n",
       "      <td>92</td>\n",
       "      <td>95</td>\n",
       "    </tr>\n",
       "    <tr>\n",
       "      <th>Surya Teja</th>\n",
       "      <td>85</td>\n",
       "      <td>94</td>\n",
       "      <td>97</td>\n",
       "      <td>76</td>\n",
       "    </tr>\n",
       "    <tr>\n",
       "      <th>Surya Teja Koka</th>\n",
       "      <td>92</td>\n",
       "      <td>95</td>\n",
       "      <td>99</td>\n",
       "      <td>98</td>\n",
       "    </tr>\n",
       "    <tr>\n",
       "      <th>Bhanu</th>\n",
       "      <td>90</td>\n",
       "      <td>89</td>\n",
       "      <td>92</td>\n",
       "      <td>78</td>\n",
       "    </tr>\n",
       "    <tr>\n",
       "      <th>Bhanu Sri</th>\n",
       "      <td>83</td>\n",
       "      <td>97</td>\n",
       "      <td>80</td>\n",
       "      <td>90</td>\n",
       "    </tr>\n",
       "    <tr>\n",
       "      <th>Bhanu Sri Edupuganti</th>\n",
       "      <td>95</td>\n",
       "      <td>98</td>\n",
       "      <td>99</td>\n",
       "      <td>100</td>\n",
       "    </tr>\n",
       "  </tbody>\n",
       "</table>\n",
       "</div>"
      ],
      "text/plain": [
       "                      DS  AI  MPII  CNS\n",
       "Surya                 77  89    92   95\n",
       "Surya Teja            85  94    97   76\n",
       "Surya Teja Koka       92  95    99   98\n",
       "Bhanu                 90  89    92   78\n",
       "Bhanu Sri             83  97    80   90\n",
       "Bhanu Sri Edupuganti  95  98    99  100"
      ]
     },
     "execution_count": 10,
     "metadata": {},
     "output_type": "execute_result"
    }
   ],
   "source": [
    "df"
   ]
  },
  {
   "cell_type": "code",
   "execution_count": 11,
   "metadata": {
    "id": "c-LSn8Je8oRU"
   },
   "outputs": [],
   "source": [
    "df['TS']= df['DS']+df['AI']+df['MPII']+df['CNS']"
   ]
  },
  {
   "cell_type": "code",
   "execution_count": 12,
   "metadata": {
    "colab": {
     "base_uri": "https://localhost:8080/",
     "height": 225
    },
    "id": "KZdPcjmC8145",
    "outputId": "ce62918d-9733-4ca7-e905-d1a6eefd2c06"
   },
   "outputs": [
    {
     "data": {
      "text/html": [
       "<div>\n",
       "<style scoped>\n",
       "    .dataframe tbody tr th:only-of-type {\n",
       "        vertical-align: middle;\n",
       "    }\n",
       "\n",
       "    .dataframe tbody tr th {\n",
       "        vertical-align: top;\n",
       "    }\n",
       "\n",
       "    .dataframe thead th {\n",
       "        text-align: right;\n",
       "    }\n",
       "</style>\n",
       "<table border=\"1\" class=\"dataframe\">\n",
       "  <thead>\n",
       "    <tr style=\"text-align: right;\">\n",
       "      <th></th>\n",
       "      <th>DS</th>\n",
       "      <th>AI</th>\n",
       "      <th>MPII</th>\n",
       "      <th>CNS</th>\n",
       "      <th>TS</th>\n",
       "    </tr>\n",
       "  </thead>\n",
       "  <tbody>\n",
       "    <tr>\n",
       "      <th>Surya</th>\n",
       "      <td>77</td>\n",
       "      <td>89</td>\n",
       "      <td>92</td>\n",
       "      <td>95</td>\n",
       "      <td>353</td>\n",
       "    </tr>\n",
       "    <tr>\n",
       "      <th>Surya Teja</th>\n",
       "      <td>85</td>\n",
       "      <td>94</td>\n",
       "      <td>97</td>\n",
       "      <td>76</td>\n",
       "      <td>352</td>\n",
       "    </tr>\n",
       "    <tr>\n",
       "      <th>Surya Teja Koka</th>\n",
       "      <td>92</td>\n",
       "      <td>95</td>\n",
       "      <td>99</td>\n",
       "      <td>98</td>\n",
       "      <td>384</td>\n",
       "    </tr>\n",
       "    <tr>\n",
       "      <th>Bhanu</th>\n",
       "      <td>90</td>\n",
       "      <td>89</td>\n",
       "      <td>92</td>\n",
       "      <td>78</td>\n",
       "      <td>349</td>\n",
       "    </tr>\n",
       "    <tr>\n",
       "      <th>Bhanu Sri</th>\n",
       "      <td>83</td>\n",
       "      <td>97</td>\n",
       "      <td>80</td>\n",
       "      <td>90</td>\n",
       "      <td>350</td>\n",
       "    </tr>\n",
       "    <tr>\n",
       "      <th>Bhanu Sri Edupuganti</th>\n",
       "      <td>95</td>\n",
       "      <td>98</td>\n",
       "      <td>99</td>\n",
       "      <td>100</td>\n",
       "      <td>392</td>\n",
       "    </tr>\n",
       "  </tbody>\n",
       "</table>\n",
       "</div>"
      ],
      "text/plain": [
       "                      DS  AI  MPII  CNS   TS\n",
       "Surya                 77  89    92   95  353\n",
       "Surya Teja            85  94    97   76  352\n",
       "Surya Teja Koka       92  95    99   98  384\n",
       "Bhanu                 90  89    92   78  349\n",
       "Bhanu Sri             83  97    80   90  350\n",
       "Bhanu Sri Edupuganti  95  98    99  100  392"
      ]
     },
     "execution_count": 12,
     "metadata": {},
     "output_type": "execute_result"
    }
   ],
   "source": [
    "df"
   ]
  },
  {
   "cell_type": "code",
   "execution_count": 17,
   "metadata": {
    "id": "QxaXmdgp844t"
   },
   "outputs": [],
   "source": [
    "z = df.iloc[1:3]\n"
   ]
  },
  {
   "cell_type": "code",
   "execution_count": 18,
   "metadata": {
    "id": "o0eon3o_AHS5"
   },
   "outputs": [
    {
     "data": {
      "text/html": [
       "<div>\n",
       "<style scoped>\n",
       "    .dataframe tbody tr th:only-of-type {\n",
       "        vertical-align: middle;\n",
       "    }\n",
       "\n",
       "    .dataframe tbody tr th {\n",
       "        vertical-align: top;\n",
       "    }\n",
       "\n",
       "    .dataframe thead th {\n",
       "        text-align: right;\n",
       "    }\n",
       "</style>\n",
       "<table border=\"1\" class=\"dataframe\">\n",
       "  <thead>\n",
       "    <tr style=\"text-align: right;\">\n",
       "      <th></th>\n",
       "      <th>DS</th>\n",
       "      <th>AI</th>\n",
       "      <th>MPII</th>\n",
       "      <th>CNS</th>\n",
       "      <th>TS</th>\n",
       "    </tr>\n",
       "  </thead>\n",
       "  <tbody>\n",
       "    <tr>\n",
       "      <th>Surya Teja</th>\n",
       "      <td>85</td>\n",
       "      <td>94</td>\n",
       "      <td>97</td>\n",
       "      <td>76</td>\n",
       "      <td>352</td>\n",
       "    </tr>\n",
       "    <tr>\n",
       "      <th>Surya Teja Koka</th>\n",
       "      <td>92</td>\n",
       "      <td>95</td>\n",
       "      <td>99</td>\n",
       "      <td>98</td>\n",
       "      <td>384</td>\n",
       "    </tr>\n",
       "  </tbody>\n",
       "</table>\n",
       "</div>"
      ],
      "text/plain": [
       "                 DS  AI  MPII  CNS   TS\n",
       "Surya Teja       85  94    97   76  352\n",
       "Surya Teja Koka  92  95    99   98  384"
      ]
     },
     "execution_count": 18,
     "metadata": {},
     "output_type": "execute_result"
    }
   ],
   "source": [
    "z"
   ]
  },
  {
   "cell_type": "code",
   "execution_count": 24,
   "metadata": {
    "id": "vxwjBhbqAIx2"
   },
   "outputs": [],
   "source": [
    "df['SPI']=df['DS']+df['AI']"
   ]
  },
  {
   "cell_type": "code",
   "execution_count": 25,
   "metadata": {
    "colab": {
     "base_uri": "https://localhost:8080/",
     "height": 225
    },
    "id": "IgmN-QznC9rj",
    "outputId": "c3aaebf8-5745-400d-b100-733e75cacca6"
   },
   "outputs": [
    {
     "data": {
      "text/html": [
       "<div>\n",
       "<style scoped>\n",
       "    .dataframe tbody tr th:only-of-type {\n",
       "        vertical-align: middle;\n",
       "    }\n",
       "\n",
       "    .dataframe tbody tr th {\n",
       "        vertical-align: top;\n",
       "    }\n",
       "\n",
       "    .dataframe thead th {\n",
       "        text-align: right;\n",
       "    }\n",
       "</style>\n",
       "<table border=\"1\" class=\"dataframe\">\n",
       "  <thead>\n",
       "    <tr style=\"text-align: right;\">\n",
       "      <th></th>\n",
       "      <th>DS</th>\n",
       "      <th>AI</th>\n",
       "      <th>MPII</th>\n",
       "      <th>CNS</th>\n",
       "      <th>TS</th>\n",
       "      <th>SPI</th>\n",
       "    </tr>\n",
       "  </thead>\n",
       "  <tbody>\n",
       "    <tr>\n",
       "      <th>Surya</th>\n",
       "      <td>77</td>\n",
       "      <td>89</td>\n",
       "      <td>92</td>\n",
       "      <td>95</td>\n",
       "      <td>353</td>\n",
       "      <td>166</td>\n",
       "    </tr>\n",
       "    <tr>\n",
       "      <th>Surya Teja</th>\n",
       "      <td>85</td>\n",
       "      <td>94</td>\n",
       "      <td>97</td>\n",
       "      <td>76</td>\n",
       "      <td>352</td>\n",
       "      <td>179</td>\n",
       "    </tr>\n",
       "    <tr>\n",
       "      <th>Surya Teja Koka</th>\n",
       "      <td>92</td>\n",
       "      <td>95</td>\n",
       "      <td>99</td>\n",
       "      <td>98</td>\n",
       "      <td>384</td>\n",
       "      <td>187</td>\n",
       "    </tr>\n",
       "    <tr>\n",
       "      <th>Bhanu</th>\n",
       "      <td>90</td>\n",
       "      <td>89</td>\n",
       "      <td>92</td>\n",
       "      <td>78</td>\n",
       "      <td>349</td>\n",
       "      <td>179</td>\n",
       "    </tr>\n",
       "    <tr>\n",
       "      <th>Bhanu Sri</th>\n",
       "      <td>83</td>\n",
       "      <td>97</td>\n",
       "      <td>80</td>\n",
       "      <td>90</td>\n",
       "      <td>350</td>\n",
       "      <td>180</td>\n",
       "    </tr>\n",
       "    <tr>\n",
       "      <th>Bhanu Sri Edupuganti</th>\n",
       "      <td>95</td>\n",
       "      <td>98</td>\n",
       "      <td>99</td>\n",
       "      <td>100</td>\n",
       "      <td>392</td>\n",
       "      <td>193</td>\n",
       "    </tr>\n",
       "  </tbody>\n",
       "</table>\n",
       "</div>"
      ],
      "text/plain": [
       "                      DS  AI  MPII  CNS   TS  SPI\n",
       "Surya                 77  89    92   95  353  166\n",
       "Surya Teja            85  94    97   76  352  179\n",
       "Surya Teja Koka       92  95    99   98  384  187\n",
       "Bhanu                 90  89    92   78  349  179\n",
       "Bhanu Sri             83  97    80   90  350  180\n",
       "Bhanu Sri Edupuganti  95  98    99  100  392  193"
      ]
     },
     "execution_count": 25,
     "metadata": {},
     "output_type": "execute_result"
    }
   ],
   "source": [
    "df\n"
   ]
  },
  {
   "cell_type": "code",
   "execution_count": 26,
   "metadata": {
    "id": "0M1JZxGEC_ui"
   },
   "outputs": [],
   "source": [
    "df['total']=df['DS']+df['AI']+df['CNS']+df['MPII']+df['SPI']"
   ]
  },
  {
   "cell_type": "code",
   "execution_count": 27,
   "metadata": {
    "colab": {
     "base_uri": "https://localhost:8080/",
     "height": 225
    },
    "id": "xO_Mr3i4DUsZ",
    "outputId": "c697d30d-e65d-4e5d-dbb8-9933493a181c"
   },
   "outputs": [
    {
     "data": {
      "text/html": [
       "<div>\n",
       "<style scoped>\n",
       "    .dataframe tbody tr th:only-of-type {\n",
       "        vertical-align: middle;\n",
       "    }\n",
       "\n",
       "    .dataframe tbody tr th {\n",
       "        vertical-align: top;\n",
       "    }\n",
       "\n",
       "    .dataframe thead th {\n",
       "        text-align: right;\n",
       "    }\n",
       "</style>\n",
       "<table border=\"1\" class=\"dataframe\">\n",
       "  <thead>\n",
       "    <tr style=\"text-align: right;\">\n",
       "      <th></th>\n",
       "      <th>DS</th>\n",
       "      <th>AI</th>\n",
       "      <th>MPII</th>\n",
       "      <th>CNS</th>\n",
       "      <th>TS</th>\n",
       "      <th>SPI</th>\n",
       "      <th>total</th>\n",
       "    </tr>\n",
       "  </thead>\n",
       "  <tbody>\n",
       "    <tr>\n",
       "      <th>Surya</th>\n",
       "      <td>77</td>\n",
       "      <td>89</td>\n",
       "      <td>92</td>\n",
       "      <td>95</td>\n",
       "      <td>353</td>\n",
       "      <td>166</td>\n",
       "      <td>519</td>\n",
       "    </tr>\n",
       "    <tr>\n",
       "      <th>Surya Teja</th>\n",
       "      <td>85</td>\n",
       "      <td>94</td>\n",
       "      <td>97</td>\n",
       "      <td>76</td>\n",
       "      <td>352</td>\n",
       "      <td>179</td>\n",
       "      <td>531</td>\n",
       "    </tr>\n",
       "    <tr>\n",
       "      <th>Surya Teja Koka</th>\n",
       "      <td>92</td>\n",
       "      <td>95</td>\n",
       "      <td>99</td>\n",
       "      <td>98</td>\n",
       "      <td>384</td>\n",
       "      <td>187</td>\n",
       "      <td>571</td>\n",
       "    </tr>\n",
       "    <tr>\n",
       "      <th>Bhanu</th>\n",
       "      <td>90</td>\n",
       "      <td>89</td>\n",
       "      <td>92</td>\n",
       "      <td>78</td>\n",
       "      <td>349</td>\n",
       "      <td>179</td>\n",
       "      <td>528</td>\n",
       "    </tr>\n",
       "    <tr>\n",
       "      <th>Bhanu Sri</th>\n",
       "      <td>83</td>\n",
       "      <td>97</td>\n",
       "      <td>80</td>\n",
       "      <td>90</td>\n",
       "      <td>350</td>\n",
       "      <td>180</td>\n",
       "      <td>530</td>\n",
       "    </tr>\n",
       "    <tr>\n",
       "      <th>Bhanu Sri Edupuganti</th>\n",
       "      <td>95</td>\n",
       "      <td>98</td>\n",
       "      <td>99</td>\n",
       "      <td>100</td>\n",
       "      <td>392</td>\n",
       "      <td>193</td>\n",
       "      <td>585</td>\n",
       "    </tr>\n",
       "  </tbody>\n",
       "</table>\n",
       "</div>"
      ],
      "text/plain": [
       "                      DS  AI  MPII  CNS   TS  SPI  total\n",
       "Surya                 77  89    92   95  353  166    519\n",
       "Surya Teja            85  94    97   76  352  179    531\n",
       "Surya Teja Koka       92  95    99   98  384  187    571\n",
       "Bhanu                 90  89    92   78  349  179    528\n",
       "Bhanu Sri             83  97    80   90  350  180    530\n",
       "Bhanu Sri Edupuganti  95  98    99  100  392  193    585"
      ]
     },
     "execution_count": 27,
     "metadata": {},
     "output_type": "execute_result"
    }
   ],
   "source": [
    "df"
   ]
  },
  {
   "cell_type": "code",
   "execution_count": 28,
   "metadata": {
    "colab": {
     "base_uri": "https://localhost:8080/",
     "height": 106
    },
    "id": "Cb-635kODWmq",
    "outputId": "5a2346d4-668f-49f0-e579-a9d4b8dd6a77"
   },
   "outputs": [
    {
     "data": {
      "text/html": [
       "<div>\n",
       "<style scoped>\n",
       "    .dataframe tbody tr th:only-of-type {\n",
       "        vertical-align: middle;\n",
       "    }\n",
       "\n",
       "    .dataframe tbody tr th {\n",
       "        vertical-align: top;\n",
       "    }\n",
       "\n",
       "    .dataframe thead th {\n",
       "        text-align: right;\n",
       "    }\n",
       "</style>\n",
       "<table border=\"1\" class=\"dataframe\">\n",
       "  <thead>\n",
       "    <tr style=\"text-align: right;\">\n",
       "      <th></th>\n",
       "      <th>DS</th>\n",
       "      <th>AI</th>\n",
       "      <th>MPII</th>\n",
       "      <th>CNS</th>\n",
       "      <th>TS</th>\n",
       "      <th>SPI</th>\n",
       "      <th>total</th>\n",
       "    </tr>\n",
       "  </thead>\n",
       "  <tbody>\n",
       "    <tr>\n",
       "      <th>Surya</th>\n",
       "      <td>77</td>\n",
       "      <td>89</td>\n",
       "      <td>92</td>\n",
       "      <td>95</td>\n",
       "      <td>353</td>\n",
       "      <td>166</td>\n",
       "      <td>519</td>\n",
       "    </tr>\n",
       "    <tr>\n",
       "      <th>Bhanu</th>\n",
       "      <td>90</td>\n",
       "      <td>89</td>\n",
       "      <td>92</td>\n",
       "      <td>78</td>\n",
       "      <td>349</td>\n",
       "      <td>179</td>\n",
       "      <td>528</td>\n",
       "    </tr>\n",
       "  </tbody>\n",
       "</table>\n",
       "</div>"
      ],
      "text/plain": [
       "       DS  AI  MPII  CNS   TS  SPI  total\n",
       "Surya  77  89    92   95  353  166    519\n",
       "Bhanu  90  89    92   78  349  179    528"
      ]
     },
     "execution_count": 28,
     "metadata": {},
     "output_type": "execute_result"
    }
   ],
   "source": [
    "df.loc[['Surya','Bhanu']]"
   ]
  },
  {
   "cell_type": "code",
   "execution_count": 29,
   "metadata": {
    "colab": {
     "base_uri": "https://localhost:8080/",
     "height": 106
    },
    "id": "2XuvpkE-Ddzu",
    "outputId": "10768d33-720a-4742-db44-96d701641a7a"
   },
   "outputs": [
    {
     "data": {
      "text/html": [
       "<div>\n",
       "<style scoped>\n",
       "    .dataframe tbody tr th:only-of-type {\n",
       "        vertical-align: middle;\n",
       "    }\n",
       "\n",
       "    .dataframe tbody tr th {\n",
       "        vertical-align: top;\n",
       "    }\n",
       "\n",
       "    .dataframe thead th {\n",
       "        text-align: right;\n",
       "    }\n",
       "</style>\n",
       "<table border=\"1\" class=\"dataframe\">\n",
       "  <thead>\n",
       "    <tr style=\"text-align: right;\">\n",
       "      <th></th>\n",
       "      <th>DS</th>\n",
       "      <th>AI</th>\n",
       "      <th>MPII</th>\n",
       "      <th>CNS</th>\n",
       "      <th>TS</th>\n",
       "      <th>SPI</th>\n",
       "      <th>total</th>\n",
       "    </tr>\n",
       "  </thead>\n",
       "  <tbody>\n",
       "    <tr>\n",
       "      <th>Surya Teja Koka</th>\n",
       "      <td>92</td>\n",
       "      <td>95</td>\n",
       "      <td>99</td>\n",
       "      <td>98</td>\n",
       "      <td>384</td>\n",
       "      <td>187</td>\n",
       "      <td>571</td>\n",
       "    </tr>\n",
       "    <tr>\n",
       "      <th>Bhanu Sri Edupuganti</th>\n",
       "      <td>95</td>\n",
       "      <td>98</td>\n",
       "      <td>99</td>\n",
       "      <td>100</td>\n",
       "      <td>392</td>\n",
       "      <td>193</td>\n",
       "      <td>585</td>\n",
       "    </tr>\n",
       "  </tbody>\n",
       "</table>\n",
       "</div>"
      ],
      "text/plain": [
       "                      DS  AI  MPII  CNS   TS  SPI  total\n",
       "Surya Teja Koka       92  95    99   98  384  187    571\n",
       "Bhanu Sri Edupuganti  95  98    99  100  392  193    585"
      ]
     },
     "execution_count": 29,
     "metadata": {},
     "output_type": "execute_result"
    }
   ],
   "source": [
    "df[df['DS']>90]"
   ]
  },
  {
   "cell_type": "code",
   "execution_count": 19,
   "metadata": {
    "colab": {
     "base_uri": "https://localhost:8080/"
    },
    "id": "T3RKxDivDmDh",
    "outputId": "2d324270-e5af-4844-b8c9-df4316ecc09d"
   },
   "outputs": [
    {
     "data": {
      "text/plain": [
       "522"
      ]
     },
     "execution_count": 19,
     "metadata": {},
     "output_type": "execute_result"
    }
   ],
   "source": [
    "sum(df['DS'])"
   ]
  },
  {
   "cell_type": "code",
   "execution_count": 31,
   "metadata": {
    "id": "8s0iYmjZDrXK"
   },
   "outputs": [],
   "source": [
    "dataset = pd.read_csv('names.csv')"
   ]
  },
  {
   "cell_type": "code",
   "execution_count": 32,
   "metadata": {
    "colab": {
     "base_uri": "https://localhost:8080/",
     "height": 402
    },
    "id": "TvFfpeTqEFJ6",
    "outputId": "5f5b59c6-1cc5-4fa6-b64b-afad5e4c45a1",
    "scrolled": true
   },
   "outputs": [
    {
     "data": {
      "text/html": [
       "<div>\n",
       "<style scoped>\n",
       "    .dataframe tbody tr th:only-of-type {\n",
       "        vertical-align: middle;\n",
       "    }\n",
       "\n",
       "    .dataframe tbody tr th {\n",
       "        vertical-align: top;\n",
       "    }\n",
       "\n",
       "    .dataframe thead th {\n",
       "        text-align: right;\n",
       "    }\n",
       "</style>\n",
       "<table border=\"1\" class=\"dataframe\">\n",
       "  <thead>\n",
       "    <tr style=\"text-align: right;\">\n",
       "      <th></th>\n",
       "      <th>Name</th>\n",
       "      <th>DS</th>\n",
       "      <th>AI</th>\n",
       "      <th>MP2</th>\n",
       "      <th>CNS</th>\n",
       "    </tr>\n",
       "  </thead>\n",
       "  <tbody>\n",
       "    <tr>\n",
       "      <th>0</th>\n",
       "      <td>surya</td>\n",
       "      <td>77</td>\n",
       "      <td>99</td>\n",
       "      <td>92</td>\n",
       "      <td>95</td>\n",
       "    </tr>\n",
       "    <tr>\n",
       "      <th>1</th>\n",
       "      <td>surya teja</td>\n",
       "      <td>85</td>\n",
       "      <td>95</td>\n",
       "      <td>97</td>\n",
       "      <td>76</td>\n",
       "    </tr>\n",
       "    <tr>\n",
       "      <th>2</th>\n",
       "      <td>surya teja koka</td>\n",
       "      <td>98</td>\n",
       "      <td>91</td>\n",
       "      <td>93</td>\n",
       "      <td>92</td>\n",
       "    </tr>\n",
       "    <tr>\n",
       "      <th>3</th>\n",
       "      <td>Bhanu</td>\n",
       "      <td>98</td>\n",
       "      <td>91</td>\n",
       "      <td>93</td>\n",
       "      <td>92</td>\n",
       "    </tr>\n",
       "    <tr>\n",
       "      <th>4</th>\n",
       "      <td>Udbhav</td>\n",
       "      <td>98</td>\n",
       "      <td>91</td>\n",
       "      <td>93</td>\n",
       "      <td>92</td>\n",
       "    </tr>\n",
       "    <tr>\n",
       "      <th>5</th>\n",
       "      <td>N chandan kumar</td>\n",
       "      <td>98</td>\n",
       "      <td>91</td>\n",
       "      <td>93</td>\n",
       "      <td>92</td>\n",
       "    </tr>\n",
       "  </tbody>\n",
       "</table>\n",
       "</div>"
      ],
      "text/plain": [
       "              Name  DS  AI  MP2  CNS\n",
       "0            surya  77  99   92   95\n",
       "1      surya teja   85  95   97   76\n",
       "2  surya teja koka  98  91   93   92\n",
       "3            Bhanu  98  91   93   92\n",
       "4           Udbhav  98  91   93   92\n",
       "5  N chandan kumar  98  91   93   92"
      ]
     },
     "execution_count": 32,
     "metadata": {},
     "output_type": "execute_result"
    }
   ],
   "source": [
    "dataset"
   ]
  },
  {
   "cell_type": "code",
   "execution_count": 47,
   "metadata": {},
   "outputs": [
    {
     "name": "stdout",
     "output_type": "stream",
     "text": [
      "c    3\n",
      "d    4\n",
      "dtype: int64\n"
     ]
    }
   ],
   "source": [
    "\n",
    "import pandas as pd\n",
    "s = pd.Series([1,2,3,4,5],index = ['a','b','c','d','e'])\n",
    "\n",
    "#retrieve the first element\n",
    "print (s[-3:-1])"
   ]
  }
 ],
 "metadata": {
  "colab": {
   "name": "Untitled1.ipynb",
   "provenance": []
  },
  "kernelspec": {
   "display_name": "Python 3",
   "language": "python",
   "name": "python3"
  },
  "language_info": {
   "codemirror_mode": {
    "name": "ipython",
    "version": 3
   },
   "file_extension": ".py",
   "mimetype": "text/x-python",
   "name": "python",
   "nbconvert_exporter": "python",
   "pygments_lexer": "ipython3",
   "version": "3.8.5"
  }
 },
 "nbformat": 4,
 "nbformat_minor": 1
}
